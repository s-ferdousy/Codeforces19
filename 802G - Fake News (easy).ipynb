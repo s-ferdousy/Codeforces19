{
 "cells": [
  {
   "cell_type": "code",
   "execution_count": 6,
   "id": "e4638417",
   "metadata": {},
   "outputs": [
    {
     "name": "stdout",
     "output_type": "stream",
     "text": [
      "abcheaibcdi\n",
      "YES\n"
     ]
    }
   ],
   "source": [
    "s = input()\n",
    "target = \"heidi\"\n",
    "j = 0\n",
    "s_len = len(s)\n",
    "for i in range(0, s_len):\n",
    "    if s[i] == target[j]:\n",
    "        j += 1\n",
    "        if j == len(target):\n",
    "            break\n",
    "if (j == len(target)):\n",
    "    print(\"YES\")\n",
    "else:\n",
    "    print(\"NO\")"
   ]
  },
  {
   "cell_type": "code",
   "execution_count": null,
   "id": "76d6a09e",
   "metadata": {},
   "outputs": [],
   "source": []
  }
 ],
 "metadata": {
  "kernelspec": {
   "display_name": "Python 3",
   "language": "python",
   "name": "python3"
  },
  "language_info": {
   "codemirror_mode": {
    "name": "ipython",
    "version": 3
   },
   "file_extension": ".py",
   "mimetype": "text/x-python",
   "name": "python",
   "nbconvert_exporter": "python",
   "pygments_lexer": "ipython3",
   "version": "3.9.2"
  }
 },
 "nbformat": 4,
 "nbformat_minor": 5
}
